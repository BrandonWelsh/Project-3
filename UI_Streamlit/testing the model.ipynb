{
 "cells": [
  {
   "cell_type": "code",
   "execution_count": 5,
   "metadata": {},
   "outputs": [],
   "source": [
    "import joblib\n",
    "\n",
    "def generate_prediction(text):\n",
    "    try:\n",
    "        # Load the model from the pickle file\n",
    "        with open('../model_directory/sentiment_model.pk1', 'rb') as f:\n",
    "            model = joblib.load(f)\n",
    "        \n",
    "        print(\"Model loaded successfully\")\n",
    "        \n",
    "        # Make predictions\n",
    "        prediction = model.predict(text)  # Adjust this line based on how your model makes predictions\n",
    "        \n",
    "        print(\"Prediction:\", prediction)\n",
    "        \n",
    "        return prediction\n",
    "    except Exception as e:\n",
    "        print(\"Error during prediction:\", e)\n",
    "        return None\n"
   ]
  },
  {
   "cell_type": "code",
   "execution_count": 6,
   "metadata": {},
   "outputs": [
    {
     "name": "stdout",
     "output_type": "stream",
     "text": [
      "Model loaded successfully\n",
      "Error during prediction: Expected 2D array, got scalar array instead:\n",
      "array=I love my city.\n",
      "Reshape your data either using array.reshape(-1, 1) if your data has a single feature or array.reshape(1, -1) if it contains a single sample.\n",
      "None\n"
     ]
    }
   ],
   "source": [
    "text = \"I love my city\"\n",
    "\n",
    "prediction = generate_prediction(text)\n",
    "\n",
    "print(prediction)"
   ]
  }
 ],
 "metadata": {
  "kernelspec": {
   "display_name": "PROJECT3",
   "language": "python",
   "name": "python3"
  },
  "language_info": {
   "codemirror_mode": {
    "name": "ipython",
    "version": 3
   },
   "file_extension": ".py",
   "mimetype": "text/x-python",
   "name": "python",
   "nbconvert_exporter": "python",
   "pygments_lexer": "ipython3",
   "version": "3.8.19"
  }
 },
 "nbformat": 4,
 "nbformat_minor": 2
}
