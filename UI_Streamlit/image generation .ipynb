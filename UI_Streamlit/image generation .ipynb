{
 "cells": [
  {
   "cell_type": "code",
   "execution_count": null,
   "metadata": {},
   "outputs": [],
   "source": [
    "!pip install openai==0.28"
   ]
  },
  {
   "cell_type": "code",
   "execution_count": 7,
   "metadata": {},
   "outputs": [
    {
     "name": "stdout",
     "output_type": "stream",
     "text": [
      "Error generating image: Incorrect API key provided: sk-LppYD***************************************KHzR. You can find your API key at https://platform.openai.com/account/api-keys.\n",
      "Failed to generate image.\n"
     ]
    }
   ],
   "source": [
    "import os\n",
    "import openai\n",
    "from dotenv import load_dotenv\n",
    "\n",
    "# Load environment variables from apikey.env file\n",
    "load_dotenv(\"apikey.env\")\n",
    "\n",
    "# Set your OpenAI API key\n",
    "openai.api_key = os.getenv(\"OPENAI_API_KEY\")\n",
    "\n",
    "def generate_image(prompt, size=\"256x256\"):\n",
    "    try:\n",
    "        # Generate image using OpenAI's DALL-E model\n",
    "        response = openai.Image.create(\n",
    "            prompt=prompt,\n",
    "            n=1,\n",
    "            size=size,\n",
    "            response_format=\"b64_json\",\n",
    "        )\n",
    "        \n",
    "        # Extract image data from response\n",
    "        image_data = response[\"data\"][0][\"b64_json\"]\n",
    "        \n",
    "        return image_data\n",
    "    except Exception as e:\n",
    "        print(f\"Error generating image: {e}\")\n",
    "        return None\n",
    "\n",
    "# Example prompt\n",
    "PROMPT = \"An eco-friendly computer from the 90s in the style of vaporwave\"\n",
    "\n",
    "# Generate image based on prompt\n",
    "image_data = generate_image(PROMPT)\n",
    "\n",
    "if image_data:\n",
    "    with open(\"generated_image.png\", \"wb\") as f:\n",
    "        f.write(image_data)\n",
    "    print(\"Image saved as 'generated_image.png'\")\n",
    "else:\n",
    "    print(\"Failed to generate image.\")\n"
   ]
  },
  {
   "cell_type": "code",
   "execution_count": null,
   "metadata": {},
   "outputs": [],
   "source": []
  }
 ],
 "metadata": {
  "kernelspec": {
   "display_name": "PROJECT3",
   "language": "python",
   "name": "python3"
  },
  "language_info": {
   "codemirror_mode": {
    "name": "ipython",
    "version": 3
   },
   "file_extension": ".py",
   "mimetype": "text/x-python",
   "name": "python",
   "nbconvert_exporter": "python",
   "pygments_lexer": "ipython3",
   "version": "3.8.19"
  }
 },
 "nbformat": 4,
 "nbformat_minor": 2
}
