{
 "cells": [
  {
   "cell_type": "code",
   "execution_count": 9,
   "metadata": {},
   "outputs": [],
   "source": [
    "import joblib\n",
    "from sklearn.feature_extraction.text import TfidfVectorizer\n",
    "\n",
    "def generate_prediction(text):\n",
    "    try:\n",
    "        # Load the model from the pickle file\n",
    "        with open('../model_directory/sentiment_model.pk1', 'rb') as f:\n",
    "            model = joblib.load(f)\n",
    "        \n",
    "        print(\"Model loaded successfully\")\n",
    "        \n",
    "        \n",
    "        # Make predictions\n",
    "        prediction = model.predict(text)\n",
    "        \n",
    "        print(\"Prediction:\", prediction)\n",
    "        \n",
    "        return prediction\n",
    "    except Exception as e:\n",
    "        print(\"Error during prediction:\", e)\n",
    "        return None\n"
   ]
  },
  {
   "cell_type": "code",
   "execution_count": 10,
   "metadata": {},
   "outputs": [
    {
     "name": "stdout",
     "output_type": "stream",
     "text": [
      "Model loaded successfully\n",
      "Error during prediction: [Errno 2] No such file or directory: '../model_directory/tfidf_vectorizer.pk1'\n",
      "None\n"
     ]
    }
   ],
   "source": [
    "text = \"I love my city\"\n",
    "\n",
    "prediction = generate_prediction(text)\n",
    "\n",
    "print(prediction)"
   ]
  }
 ],
 "metadata": {
  "kernelspec": {
   "display_name": "PROJECT3",
   "language": "python",
   "name": "python3"
  },
  "language_info": {
   "codemirror_mode": {
    "name": "ipython",
    "version": 3
   },
   "file_extension": ".py",
   "mimetype": "text/x-python",
   "name": "python",
   "nbconvert_exporter": "python",
   "pygments_lexer": "ipython3",
   "version": "3.8.19"
  }
 },
 "nbformat": 4,
 "nbformat_minor": 2
}
